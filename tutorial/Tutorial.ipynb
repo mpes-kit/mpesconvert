{
 "cells": [
  {
   "cell_type": "code",
   "execution_count": 1,
   "source": [
    "import sys  \r\n",
    "from mpesconvert.FileConverter import Convertor"
   ],
   "outputs": [],
   "metadata": {}
  },
  {
   "cell_type": "code",
   "execution_count": 2,
   "source": [
    "fc = Convertor(type_='ARPES', data_dir= 'data.h5')"
   ],
   "outputs": [],
   "metadata": {}
  },
  {
   "cell_type": "code",
   "execution_count": null,
   "source": [
    "fc.to_nexus('test_file', 'V', 'kx', 'ky', 'E', 'delay')"
   ],
   "outputs": [],
   "metadata": {}
  },
  {
   "cell_type": "code",
   "execution_count": null,
   "source": [],
   "outputs": [],
   "metadata": {}
  }
 ],
 "metadata": {
  "kernelspec": {
   "name": "python3",
   "display_name": "Python 3.9.6 64-bit ('NexusFileConvertor': conda)"
  },
  "language_info": {
   "name": "python",
   "version": "3.9.6",
   "mimetype": "text/x-python",
   "codemirror_mode": {
    "name": "ipython",
    "version": 3
   },
   "pygments_lexer": "ipython3",
   "nbconvert_exporter": "python",
   "file_extension": ".py"
  },
  "interpreter": {
   "hash": "97398d197e6dbc79b5d84a0705bc7ffd1d5f7e772e989a1f017971e183c5eec9"
  }
 },
 "nbformat": 4,
 "nbformat_minor": 2
}